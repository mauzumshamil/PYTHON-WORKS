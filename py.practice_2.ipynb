{
  "nbformat": 4,
  "nbformat_minor": 0,
  "metadata": {
    "colab": {
      "provenance": [],
      "toc_visible": true
    },
    "kernelspec": {
      "name": "python3",
      "display_name": "Python 3"
    },
    "language_info": {
      "name": "python"
    }
  },
  "cells": [
    {
      "cell_type": "markdown",
      "source": [
        "# List"
      ],
      "metadata": {
        "id": "mrxDHnl0psLd"
      }
    },
    {
      "cell_type": "code",
      "source": [
        "cars = ['bmw','benz','toyoto','rollsroyce','nissan','tesla','lincoln','audi','porsche']\n",
        "print(cars)"
      ],
      "metadata": {
        "colab": {
          "base_uri": "https://localhost:8080/"
        },
        "id": "VvRd0pt4pxKM",
        "outputId": "efba587f-d3c2-44db-9078-81cf30763756"
      },
      "execution_count": null,
      "outputs": [
        {
          "output_type": "stream",
          "name": "stdout",
          "text": [
            "['bmw', 'benz', 'toyoto', 'rollsroyce', 'nissan', 'tesla', 'lincoln', 'audi', 'porsche']\n"
          ]
        }
      ]
    },
    {
      "cell_type": "code",
      "source": [
        "cars[0]"
      ],
      "metadata": {
        "colab": {
          "base_uri": "https://localhost:8080/",
          "height": 36
        },
        "id": "GaVOW3bhrNgd",
        "outputId": "711b4b1d-967c-421b-e20b-d60295b7d825"
      },
      "execution_count": null,
      "outputs": [
        {
          "output_type": "execute_result",
          "data": {
            "text/plain": [
              "'bmw'"
            ],
            "application/vnd.google.colaboratory.intrinsic+json": {
              "type": "string"
            }
          },
          "metadata": {},
          "execution_count": 2
        }
      ]
    },
    {
      "cell_type": "code",
      "source": [
        "cars[5]"
      ],
      "metadata": {
        "colab": {
          "base_uri": "https://localhost:8080/",
          "height": 36
        },
        "id": "-dAByD3SrWwg",
        "outputId": "6b14d67d-7548-4a46-ec44-eeed65bed7f6"
      },
      "execution_count": null,
      "outputs": [
        {
          "output_type": "execute_result",
          "data": {
            "text/plain": [
              "'tesla'"
            ],
            "application/vnd.google.colaboratory.intrinsic+json": {
              "type": "string"
            }
          },
          "metadata": {},
          "execution_count": 3
        }
      ]
    },
    {
      "cell_type": "code",
      "source": [
        "len(cars)"
      ],
      "metadata": {
        "colab": {
          "base_uri": "https://localhost:8080/"
        },
        "id": "SwNh9K2sraxu",
        "outputId": "208b25ae-f85b-4d3a-9c7a-77ddfd30a1ff"
      },
      "execution_count": null,
      "outputs": [
        {
          "output_type": "execute_result",
          "data": {
            "text/plain": [
              "9"
            ]
          },
          "metadata": {},
          "execution_count": 5
        }
      ]
    },
    {
      "cell_type": "code",
      "source": [
        "cars.append('lexus')\n",
        "cars"
      ],
      "metadata": {
        "colab": {
          "base_uri": "https://localhost:8080/"
        },
        "id": "ROk-_tS1rnDM",
        "outputId": "7c24e194-f210-4eb2-815a-aec4b3872a98"
      },
      "execution_count": null,
      "outputs": [
        {
          "output_type": "execute_result",
          "data": {
            "text/plain": [
              "['bmw',\n",
              " 'benz',\n",
              " 'toyoto',\n",
              " 'rollsroyce',\n",
              " 'nissan',\n",
              " 'tesla',\n",
              " 'lincoln',\n",
              " 'audi',\n",
              " 'porsche',\n",
              " 'lexus',\n",
              " 'lexus']"
            ]
          },
          "metadata": {},
          "execution_count": 7
        }
      ]
    },
    {
      "cell_type": "code",
      "source": [
        "print(cars)"
      ],
      "metadata": {
        "colab": {
          "base_uri": "https://localhost:8080/"
        },
        "id": "CpJsB-Qar5_W",
        "outputId": "b3618f07-2220-42bd-836e-c69df79b120d"
      },
      "execution_count": null,
      "outputs": [
        {
          "output_type": "stream",
          "name": "stdout",
          "text": [
            "['bmw', 'benz', 'toyoto', 'rollsroyce', 'nissan', 'tesla', 'lincoln', 'audi', 'porsche', 'lexus', 'lexus']\n"
          ]
        }
      ]
    },
    {
      "cell_type": "code",
      "source": [
        "# adding multiple items\n",
        "cars.extend(['maruti','hyundai'])"
      ],
      "metadata": {
        "id": "NOtiyCV4r-1N"
      },
      "execution_count": 9,
      "outputs": []
    },
    {
      "cell_type": "code",
      "source": [
        "print(cars)"
      ],
      "metadata": {
        "colab": {
          "base_uri": "https://localhost:8080/"
        },
        "id": "DSqtStqOsvRA",
        "outputId": "173d71a5-39ea-4f8e-d923-e30c9ead438c"
      },
      "execution_count": 16,
      "outputs": [
        {
          "output_type": "stream",
          "name": "stdout",
          "text": [
            "['bmw', 'benz', 'toyoto', 'rollsroyce', 'nissan', 'tesla', 'lincoln', 'audi', 'porsche', 'lexus', 'lexus']\n"
          ]
        }
      ]
    },
    {
      "cell_type": "code",
      "source": [
        "cars.remove('maruti')\n",
        "cars"
      ],
      "metadata": {
        "colab": {
          "base_uri": "https://localhost:8080/"
        },
        "id": "uVsxL26bszju",
        "outputId": "1835770a-7408-48e3-bf75-c939943824be"
      },
      "execution_count": 15,
      "outputs": [
        {
          "output_type": "execute_result",
          "data": {
            "text/plain": [
              "['bmw',\n",
              " 'benz',\n",
              " 'toyoto',\n",
              " 'rollsroyce',\n",
              " 'nissan',\n",
              " 'tesla',\n",
              " 'lincoln',\n",
              " 'audi',\n",
              " 'porsche',\n",
              " 'lexus',\n",
              " 'lexus']"
            ]
          },
          "metadata": {},
          "execution_count": 15
        }
      ]
    },
    {
      "cell_type": "code",
      "source": [
        "cars.pop(7)"
      ],
      "metadata": {
        "colab": {
          "base_uri": "https://localhost:8080/",
          "height": 36
        },
        "id": "dhFXgXK3to3X",
        "outputId": "295e687e-eb02-4d2f-9dd5-31fe0b347379"
      },
      "execution_count": 17,
      "outputs": [
        {
          "output_type": "execute_result",
          "data": {
            "text/plain": [
              "'audi'"
            ],
            "application/vnd.google.colaboratory.intrinsic+json": {
              "type": "string"
            }
          },
          "metadata": {},
          "execution_count": 17
        }
      ]
    },
    {
      "cell_type": "code",
      "source": [
        "del(cars[5])\n",
        "cars"
      ],
      "metadata": {
        "colab": {
          "base_uri": "https://localhost:8080/"
        },
        "id": "zFl_j3-wt37C",
        "outputId": "c946de35-b4c5-4df2-eb42-2e6a644c5f05"
      },
      "execution_count": 19,
      "outputs": [
        {
          "output_type": "execute_result",
          "data": {
            "text/plain": [
              "['bmw', 'benz', 'toyoto', 'rollsroyce', 'nissan', 'porsche', 'lexus', 'lexus']"
            ]
          },
          "metadata": {},
          "execution_count": 19
        }
      ]
    },
    {
      "cell_type": "code",
      "source": [
        "car=cars+['hummer','mclaren']\n",
        "car"
      ],
      "metadata": {
        "colab": {
          "base_uri": "https://localhost:8080/"
        },
        "id": "dwW8VjHVuDzp",
        "outputId": "35eeaeb1-175a-4a8e-961c-ab6d1f63ebe6"
      },
      "execution_count": 20,
      "outputs": [
        {
          "output_type": "execute_result",
          "data": {
            "text/plain": [
              "['bmw',\n",
              " 'benz',\n",
              " 'toyoto',\n",
              " 'rollsroyce',\n",
              " 'nissan',\n",
              " 'porsche',\n",
              " 'lexus',\n",
              " 'lexus',\n",
              " 'hummer',\n",
              " 'mclaren']"
            ]
          },
          "metadata": {},
          "execution_count": 20
        }
      ]
    },
    {
      "cell_type": "code",
      "source": [
        "cars.index('porsche')"
      ],
      "metadata": {
        "colab": {
          "base_uri": "https://localhost:8080/"
        },
        "id": "SwHe_f_xuXK0",
        "outputId": "d2d6abee-96fe-4b63-aca9-611105a42b3d"
      },
      "execution_count": 24,
      "outputs": [
        {
          "output_type": "execute_result",
          "data": {
            "text/plain": [
              "5"
            ]
          },
          "metadata": {},
          "execution_count": 24
        }
      ]
    },
    {
      "cell_type": "code",
      "source": [
        "# list slicing\n",
        "cars[:4]"
      ],
      "metadata": {
        "colab": {
          "base_uri": "https://localhost:8080/"
        },
        "id": "POpm-9E4unm-",
        "outputId": "2eff6979-53e7-48b5-ae45-1b509c27286e"
      },
      "execution_count": 26,
      "outputs": [
        {
          "output_type": "execute_result",
          "data": {
            "text/plain": [
              "['bmw', 'benz', 'toyoto', 'rollsroyce']"
            ]
          },
          "metadata": {},
          "execution_count": 26
        }
      ]
    },
    {
      "cell_type": "code",
      "source": [
        "cars[4:]"
      ],
      "metadata": {
        "colab": {
          "base_uri": "https://localhost:8080/"
        },
        "id": "L7XKAL3Lu7E1",
        "outputId": "a0b50fc2-e525-45de-cd63-da393b195253"
      },
      "execution_count": 27,
      "outputs": [
        {
          "output_type": "execute_result",
          "data": {
            "text/plain": [
              "['nissan', 'porsche', 'lexus', 'lexus']"
            ]
          },
          "metadata": {},
          "execution_count": 27
        }
      ]
    },
    {
      "cell_type": "code",
      "source": [
        "cars[::-1]"
      ],
      "metadata": {
        "colab": {
          "base_uri": "https://localhost:8080/"
        },
        "id": "p_SDx5bJveAj",
        "outputId": "f0bc5aa0-d1ec-41e1-924b-efaf7977d807"
      },
      "execution_count": 29,
      "outputs": [
        {
          "output_type": "execute_result",
          "data": {
            "text/plain": [
              "['lexus', 'lexus', 'porsche', 'nissan', 'rollsroyce', 'toyoto', 'benz', 'bmw']"
            ]
          },
          "metadata": {},
          "execution_count": 29
        }
      ]
    },
    {
      "cell_type": "code",
      "source": [
        "car[-1]"
      ],
      "metadata": {
        "colab": {
          "base_uri": "https://localhost:8080/",
          "height": 36
        },
        "id": "O-TEUA4fvjfm",
        "outputId": "1bbe7334-85b8-4e31-c43a-f33bc3ab0a85"
      },
      "execution_count": 31,
      "outputs": [
        {
          "output_type": "execute_result",
          "data": {
            "text/plain": [
              "'mclaren'"
            ],
            "application/vnd.google.colaboratory.intrinsic+json": {
              "type": "string"
            }
          },
          "metadata": {},
          "execution_count": 31
        }
      ]
    },
    {
      "cell_type": "code",
      "source": [
        "car.sort()\n",
        "car"
      ],
      "metadata": {
        "colab": {
          "base_uri": "https://localhost:8080/"
        },
        "id": "mW7Oc8i5vrOL",
        "outputId": "ed564e30-c43f-4fbc-e42d-26570a4eed2b"
      },
      "execution_count": 32,
      "outputs": [
        {
          "output_type": "execute_result",
          "data": {
            "text/plain": [
              "['benz',\n",
              " 'bmw',\n",
              " 'hummer',\n",
              " 'lexus',\n",
              " 'lexus',\n",
              " 'mclaren',\n",
              " 'nissan',\n",
              " 'porsche',\n",
              " 'rollsroyce',\n",
              " 'toyoto']"
            ]
          },
          "metadata": {},
          "execution_count": 32
        }
      ]
    },
    {
      "cell_type": "code",
      "source": [
        "car[3]='rangerover'\n",
        "car"
      ],
      "metadata": {
        "colab": {
          "base_uri": "https://localhost:8080/"
        },
        "id": "tmL6q_RLv1oh",
        "outputId": "c67aa43a-f476-480c-a5b5-71153322c369"
      },
      "execution_count": 33,
      "outputs": [
        {
          "output_type": "execute_result",
          "data": {
            "text/plain": [
              "['benz',\n",
              " 'bmw',\n",
              " 'hummer',\n",
              " 'rangerover',\n",
              " 'lexus',\n",
              " 'mclaren',\n",
              " 'nissan',\n",
              " 'porsche',\n",
              " 'rollsroyce',\n",
              " 'toyoto']"
            ]
          },
          "metadata": {},
          "execution_count": 33
        }
      ]
    },
    {
      "cell_type": "code",
      "source": [
        "sorted(car,reverse=True)"
      ],
      "metadata": {
        "colab": {
          "base_uri": "https://localhost:8080/"
        },
        "id": "nNkyP1y5wMzX",
        "outputId": "79facd55-e8bb-408a-fc47-e05397fb7dd4"
      },
      "execution_count": 39,
      "outputs": [
        {
          "output_type": "execute_result",
          "data": {
            "text/plain": [
              "['toyoto',\n",
              " 'rollsroyce',\n",
              " 'rangerover',\n",
              " 'porsche',\n",
              " 'nissan',\n",
              " 'mclaren',\n",
              " 'lexus',\n",
              " 'hummer',\n",
              " 'bmw',\n",
              " 'benz']"
            ]
          },
          "metadata": {},
          "execution_count": 39
        }
      ]
    },
    {
      "cell_type": "code",
      "source": [
        "sorted(car)"
      ],
      "metadata": {
        "colab": {
          "base_uri": "https://localhost:8080/"
        },
        "id": "BtnD5Jt2w4Dd",
        "outputId": "7eec082b-a269-4710-80c2-3c32443996c5"
      },
      "execution_count": 40,
      "outputs": [
        {
          "output_type": "execute_result",
          "data": {
            "text/plain": [
              "['benz',\n",
              " 'bmw',\n",
              " 'hummer',\n",
              " 'lexus',\n",
              " 'mclaren',\n",
              " 'nissan',\n",
              " 'porsche',\n",
              " 'rangerover',\n",
              " 'rollsroyce',\n",
              " 'toyoto']"
            ]
          },
          "metadata": {},
          "execution_count": 40
        }
      ]
    },
    {
      "cell_type": "code",
      "source": [
        "num=[1,2,3,4,6]\n",
        "from bisect import insort\n",
        "\n",
        "\n",
        "insort(num,5)\n",
        "num"
      ],
      "metadata": {
        "colab": {
          "base_uri": "https://localhost:8080/"
        },
        "id": "H0nnjxa1xPFh",
        "outputId": "c55b6e33-3468-4f3f-9525-5e4931062b3e"
      },
      "execution_count": 46,
      "outputs": [
        {
          "output_type": "execute_result",
          "data": {
            "text/plain": [
              "[1, 2, 3, 4, 5, 6]"
            ]
          },
          "metadata": {},
          "execution_count": 46
        }
      ]
    },
    {
      "cell_type": "markdown",
      "source": [
        "# tuple"
      ],
      "metadata": {
        "id": "wgv0CPYjyADr"
      }
    },
    {
      "cell_type": "code",
      "source": [
        "number=(2,3,'five',2.34)\n",
        "number"
      ],
      "metadata": {
        "colab": {
          "base_uri": "https://localhost:8080/"
        },
        "id": "o44-eZGeyGUf",
        "outputId": "c9ccd261-f837-4bc7-f44d-735a7e786e06"
      },
      "execution_count": 49,
      "outputs": [
        {
          "output_type": "execute_result",
          "data": {
            "text/plain": [
              "(2, 3, 'five', 2.34)"
            ]
          },
          "metadata": {},
          "execution_count": 49
        }
      ]
    },
    {
      "cell_type": "code",
      "source": [
        "number[3]"
      ],
      "metadata": {
        "colab": {
          "base_uri": "https://localhost:8080/"
        },
        "id": "uihdSW6lyliE",
        "outputId": "702ce0df-f260-4c3f-af40-dfc27c0d9938"
      },
      "execution_count": 50,
      "outputs": [
        {
          "output_type": "execute_result",
          "data": {
            "text/plain": [
              "2.34"
            ]
          },
          "metadata": {},
          "execution_count": 50
        }
      ]
    },
    {
      "cell_type": "code",
      "source": [
        "number[:2]"
      ],
      "metadata": {
        "colab": {
          "base_uri": "https://localhost:8080/"
        },
        "id": "VzZfypRHyo5o",
        "outputId": "3c39324a-f2fe-4748-bd35-81eda564c3c0"
      },
      "execution_count": 51,
      "outputs": [
        {
          "output_type": "execute_result",
          "data": {
            "text/plain": [
              "(2, 3)"
            ]
          },
          "metadata": {},
          "execution_count": 51
        }
      ]
    },
    {
      "cell_type": "code",
      "source": [
        "number[::-1]"
      ],
      "metadata": {
        "colab": {
          "base_uri": "https://localhost:8080/"
        },
        "id": "Y9oRSakKytiz",
        "outputId": "7a8fbcb9-6e78-4b7b-dedb-e533ee4638b0"
      },
      "execution_count": 52,
      "outputs": [
        {
          "output_type": "execute_result",
          "data": {
            "text/plain": [
              "(2.34, 'five', 3, 2)"
            ]
          },
          "metadata": {},
          "execution_count": 52
        }
      ]
    },
    {
      "cell_type": "code",
      "source": [
        "number.count(0)"
      ],
      "metadata": {
        "colab": {
          "base_uri": "https://localhost:8080/"
        },
        "id": "_6cV3KsbyzG8",
        "outputId": "03679777-ee78-4eae-a33f-dd29bc54dce7"
      },
      "execution_count": 56,
      "outputs": [
        {
          "output_type": "execute_result",
          "data": {
            "text/plain": [
              "0"
            ]
          },
          "metadata": {},
          "execution_count": 56
        }
      ]
    },
    {
      "cell_type": "code",
      "source": [
        "len(number)"
      ],
      "metadata": {
        "colab": {
          "base_uri": "https://localhost:8080/"
        },
        "id": "OYXrAc3ezKvc",
        "outputId": "75c6e098-7c9b-48b1-ff02-d1f28560e73b"
      },
      "execution_count": 58,
      "outputs": [
        {
          "output_type": "execute_result",
          "data": {
            "text/plain": [
              "4"
            ]
          },
          "metadata": {},
          "execution_count": 58
        }
      ]
    },
    {
      "cell_type": "code",
      "source": [
        "numbers=number+(8,9)\n",
        "numbers"
      ],
      "metadata": {
        "colab": {
          "base_uri": "https://localhost:8080/"
        },
        "id": "tkogi0MtzTx5",
        "outputId": "8caf4ebc-9a34-4424-d2dd-efff7c204ccb"
      },
      "execution_count": 60,
      "outputs": [
        {
          "output_type": "execute_result",
          "data": {
            "text/plain": [
              "(2, 3, 'five', 2.34, 8, 9)"
            ]
          },
          "metadata": {},
          "execution_count": 60
        }
      ]
    },
    {
      "cell_type": "code",
      "source": [
        "info = ('mauzum',22,'male')\n",
        "(name,age,sex) = info\n",
        "\n",
        "print(name)\n",
        "print(age)\n",
        "print(sex)"
      ],
      "metadata": {
        "colab": {
          "base_uri": "https://localhost:8080/"
        },
        "id": "SE8-DQ-Kz4Oy",
        "outputId": "576d5a87-6873-4930-99b1-ef26ad016412"
      },
      "execution_count": 67,
      "outputs": [
        {
          "output_type": "stream",
          "name": "stdout",
          "text": [
            "mauzum\n",
            "22\n",
            "male\n"
          ]
        }
      ]
    },
    {
      "cell_type": "markdown",
      "source": [
        "# string"
      ],
      "metadata": {
        "id": "fr-p8vW31NbH"
      }
    },
    {
      "cell_type": "code",
      "source": [
        "s=(888888888888)\n",
        "s"
      ],
      "metadata": {
        "colab": {
          "base_uri": "https://localhost:8080/"
        },
        "id": "H1JKHb_K1Qtd",
        "outputId": "c42dcd38-e320-47fe-8ff7-500cf929cc55"
      },
      "execution_count": 69,
      "outputs": [
        {
          "output_type": "execute_result",
          "data": {
            "text/plain": [
              "888888888888"
            ]
          },
          "metadata": {},
          "execution_count": 69
        }
      ]
    },
    {
      "cell_type": "code",
      "source": [
        "read = 'If your dreams dont scare you . they are too small.'\n",
        "read"
      ],
      "metadata": {
        "colab": {
          "base_uri": "https://localhost:8080/",
          "height": 36
        },
        "id": "2dk12XaH2GAd",
        "outputId": "99219946-3ba2-4137-a369-143a0c6b62e4"
      },
      "execution_count": 71,
      "outputs": [
        {
          "output_type": "execute_result",
          "data": {
            "text/plain": [
              "'If your dreams dont scare you . they are too small.'"
            ],
            "application/vnd.google.colaboratory.intrinsic+json": {
              "type": "string"
            }
          },
          "metadata": {},
          "execution_count": 71
        }
      ]
    },
    {
      "cell_type": "code",
      "source": [
        "len(read)"
      ],
      "metadata": {
        "colab": {
          "base_uri": "https://localhost:8080/"
        },
        "id": "MqbX3FGU2jC0",
        "outputId": "a9016801-b02a-4770-cf17-0bc8c4a487f1"
      },
      "execution_count": 72,
      "outputs": [
        {
          "output_type": "execute_result",
          "data": {
            "text/plain": [
              "51"
            ]
          },
          "metadata": {},
          "execution_count": 72
        }
      ]
    },
    {
      "cell_type": "code",
      "source": [
        "read[6]"
      ],
      "metadata": {
        "colab": {
          "base_uri": "https://localhost:8080/",
          "height": 36
        },
        "id": "y7gkNPtn2pyp",
        "outputId": "92516316-3387-494a-a666-7fa13db8eaf0"
      },
      "execution_count": 73,
      "outputs": [
        {
          "output_type": "execute_result",
          "data": {
            "text/plain": [
              "'r'"
            ],
            "application/vnd.google.colaboratory.intrinsic+json": {
              "type": "string"
            }
          },
          "metadata": {},
          "execution_count": 73
        }
      ]
    },
    {
      "cell_type": "code",
      "source": [
        "read[::-1]"
      ],
      "metadata": {
        "colab": {
          "base_uri": "https://localhost:8080/",
          "height": 36
        },
        "id": "SQoIVwiC2tuY",
        "outputId": "8c8648a4-b3c6-4be7-dd6e-4c219d17c5ca"
      },
      "execution_count": 74,
      "outputs": [
        {
          "output_type": "execute_result",
          "data": {
            "text/plain": [
              "'.llams oot era yeht . uoy eracs tnod smaerd ruoy fI'"
            ],
            "application/vnd.google.colaboratory.intrinsic+json": {
              "type": "string"
            }
          },
          "metadata": {},
          "execution_count": 74
        }
      ]
    },
    {
      "cell_type": "code",
      "source": [
        "read.upper()"
      ],
      "metadata": {
        "colab": {
          "base_uri": "https://localhost:8080/",
          "height": 36
        },
        "id": "TaoLzedH2xMl",
        "outputId": "904d613e-af97-445f-b068-d6fc3647d8bc"
      },
      "execution_count": 75,
      "outputs": [
        {
          "output_type": "execute_result",
          "data": {
            "text/plain": [
              "'IF YOUR DREAMS DONT SCARE YOU . THEY ARE TOO SMALL.'"
            ],
            "application/vnd.google.colaboratory.intrinsic+json": {
              "type": "string"
            }
          },
          "metadata": {},
          "execution_count": 75
        }
      ]
    },
    {
      "cell_type": "code",
      "source": [
        "read"
      ],
      "metadata": {
        "colab": {
          "base_uri": "https://localhost:8080/",
          "height": 36
        },
        "id": "CaMGkOS_25qs",
        "outputId": "9acff647-e66a-4661-d9d5-5339fad6be40"
      },
      "execution_count": 76,
      "outputs": [
        {
          "output_type": "execute_result",
          "data": {
            "text/plain": [
              "'If your dreams dont scare you . they are too small.'"
            ],
            "application/vnd.google.colaboratory.intrinsic+json": {
              "type": "string"
            }
          },
          "metadata": {},
          "execution_count": 76
        }
      ]
    },
    {
      "cell_type": "code",
      "source": [
        "read.find('DREAMS')"
      ],
      "metadata": {
        "colab": {
          "base_uri": "https://localhost:8080/"
        },
        "id": "s_M-QKqs28Ur",
        "outputId": "0302f65c-0883-4634-f874-cd192eeeee73"
      },
      "execution_count": 78,
      "outputs": [
        {
          "output_type": "execute_result",
          "data": {
            "text/plain": [
              "-1"
            ]
          },
          "metadata": {},
          "execution_count": 78
        }
      ]
    },
    {
      "cell_type": "code",
      "source": [
        "read.split()"
      ],
      "metadata": {
        "colab": {
          "base_uri": "https://localhost:8080/"
        },
        "id": "be4Wd1Z63NPy",
        "outputId": "4e79b8c2-6df2-42e7-e390-f187841f2d65"
      },
      "execution_count": 79,
      "outputs": [
        {
          "output_type": "execute_result",
          "data": {
            "text/plain": [
              "['If',\n",
              " 'your',\n",
              " 'dreams',\n",
              " 'dont',\n",
              " 'scare',\n",
              " 'you',\n",
              " '.',\n",
              " 'they',\n",
              " 'are',\n",
              " 'too',\n",
              " 'small.']"
            ]
          },
          "metadata": {},
          "execution_count": 79
        }
      ]
    },
    {
      "cell_type": "code",
      "source": [
        "read.replace('your','our')\n"
      ],
      "metadata": {
        "colab": {
          "base_uri": "https://localhost:8080/",
          "height": 36
        },
        "id": "J2weu3QM3TNx",
        "outputId": "63c11ede-0d63-4be0-9015-339312df1a19"
      },
      "execution_count": 83,
      "outputs": [
        {
          "output_type": "execute_result",
          "data": {
            "text/plain": [
              "'If our dreams dont scare you . they are too small.'"
            ],
            "application/vnd.google.colaboratory.intrinsic+json": {
              "type": "string"
            }
          },
          "metadata": {},
          "execution_count": 83
        }
      ]
    },
    {
      "cell_type": "code",
      "source": [
        "s1='my name is'\n",
        "s2='mauzum shamil'\n",
        "\n",
        "s1 + ' ' +s2"
      ],
      "metadata": {
        "colab": {
          "base_uri": "https://localhost:8080/",
          "height": 36
        },
        "id": "ro8ssfWw30K4",
        "outputId": "ac1452c6-d00d-4159-9d1f-08ca2a1b70ca"
      },
      "execution_count": 86,
      "outputs": [
        {
          "output_type": "execute_result",
          "data": {
            "text/plain": [
              "'my name is mauzum shamil'"
            ],
            "application/vnd.google.colaboratory.intrinsic+json": {
              "type": "string"
            }
          },
          "metadata": {},
          "execution_count": 86
        }
      ]
    },
    {
      "cell_type": "code",
      "source": [
        "'there is {} and {}'.format('cars','bikes')"
      ],
      "metadata": {
        "colab": {
          "base_uri": "https://localhost:8080/",
          "height": 36
        },
        "id": "BcAD0HRw4r0B",
        "outputId": "9bd36d02-4221-4bf1-ba1d-a96fa9a100b8"
      },
      "execution_count": 87,
      "outputs": [
        {
          "output_type": "execute_result",
          "data": {
            "text/plain": [
              "'there is cars and bikes'"
            ],
            "application/vnd.google.colaboratory.intrinsic+json": {
              "type": "string"
            }
          },
          "metadata": {},
          "execution_count": 87
        }
      ]
    }
  ]
}