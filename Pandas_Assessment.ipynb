{
 "cells": [
  {
   "cell_type": "code",
   "execution_count": null,
   "id": "44c7243f",
   "metadata": {},
   "outputs": [],
   "source": [
    "1.Write a Pandas program to create and display a one-dimensional array-like object containing an array of data."
   ]
  },
  {
   "cell_type": "code",
   "execution_count": null,
   "id": "02b14b0f",
   "metadata": {},
   "outputs": [],
   "source": [
    "2.Write a Pandas program to add, subtract, multiple and divide two Pandas Series."
   ]
  },
  {
   "cell_type": "code",
   "execution_count": null,
   "id": "ead13169",
   "metadata": {},
   "outputs": [],
   "source": [
    "3.Write a Pandas program to convert a dictionary to a Pandas series."
   ]
  },
  {
   "cell_type": "code",
   "execution_count": null,
   "id": "7b09e93c",
   "metadata": {},
   "outputs": [],
   "source": [
    "4.Write a Pandas program to convert a NumPy array to a Pandas series."
   ]
  },
  {
   "cell_type": "code",
   "execution_count": null,
   "id": "059a9d31",
   "metadata": {},
   "outputs": [],
   "source": [
    "5.Write a Pandas program to sort a given Series.\n",
    "Original Data Series:\n",
    "0       100\n",
    "1       200\n",
    "2    python\n",
    "3    300.12\n",
    "4       400\n",
    "dtype: object"
   ]
  },
  {
   "cell_type": "code",
   "execution_count": null,
   "id": "eb414e27",
   "metadata": {},
   "outputs": [],
   "source": [
    "6.Write a Pandas program to create the mean and standard deviation of the data of a  Series."
   ]
  },
  {
   "cell_type": "code",
   "execution_count": null,
   "id": "8bca224a",
   "metadata": {},
   "outputs": [],
   "source": [
    "7. a Pandas program to create a dataframe from a dictionary and display it."
   ]
  },
  {
   "cell_type": "code",
   "execution_count": null,
   "id": "c623a69d",
   "metadata": {},
   "outputs": [],
   "source": [
    "8.Write a Pandas program to get the first 3 rows of a  DataFrame.\n"
   ]
  },
  {
   "cell_type": "code",
   "execution_count": null,
   "id": "46213f45",
   "metadata": {},
   "outputs": [],
   "source": [
    "9.Write a Pandas program to select the rows where the number of attempts in the examination is greater than 2.\n",
    "\n",
    "exam_data = {'name': ['Anastasia', 'Dima', 'Katherine', 'James', 'Emily', 'Michael', 'Matthew', 'Laura', 'Kevin', 'Jonas'],\n",
    "'score': [12.5, 9, 16.5, np.nan, 9, 20, 14.5, np.nan, 8, 19],\n",
    "'attempts': [1, 3, 2, 3, 2, 3, 1, 1, 2, 1],\n",
    "'qualify': ['yes', 'no', 'yes', 'no', 'no', 'yes', 'yes', 'no', 'no', 'yes']}\n",
    "labels = ['a', 'b', 'c', 'd', 'e', 'f', 'g', 'h', 'i', 'j']"
   ]
  },
  {
   "cell_type": "code",
   "execution_count": null,
   "id": "02f14595",
   "metadata": {},
   "outputs": [],
   "source": [
    "10.Write a Pandas program to display the default index and set a column as an Index in a dataframe."
   ]
  }
 ],
 "metadata": {
  "kernelspec": {
   "display_name": "Python 3 (ipykernel)",
   "language": "python",
   "name": "python3"
  },
  "language_info": {
   "codemirror_mode": {
    "name": "ipython",
    "version": 3
   },
   "file_extension": ".py",
   "mimetype": "text/x-python",
   "name": "python",
   "nbconvert_exporter": "python",
   "pygments_lexer": "ipython3",
   "version": "3.11.4"
  }
 },
 "nbformat": 4,
 "nbformat_minor": 5
}
