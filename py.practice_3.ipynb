{
  "nbformat": 4,
  "nbformat_minor": 0,
  "metadata": {
    "colab": {
      "provenance": [],
      "toc_visible": true
    },
    "kernelspec": {
      "name": "python3",
      "display_name": "Python 3"
    },
    "language_info": {
      "name": "python"
    }
  },
  "cells": [
    {
      "cell_type": "markdown",
      "source": [
        "# Dictionaries"
      ],
      "metadata": {
        "id": "-z1u71TIGel4"
      }
    },
    {
      "cell_type": "code",
      "source": [
        "school_team = {'student1':'goalie','student2':'forward','student3':'mid','student4':'centreback','student5':'centremid'}"
      ],
      "metadata": {
        "id": "I93FgzsBGjyt"
      },
      "execution_count": 4,
      "outputs": []
    },
    {
      "cell_type": "code",
      "source": [
        "school_team"
      ],
      "metadata": {
        "colab": {
          "base_uri": "https://localhost:8080/"
        },
        "id": "1iTeU5JZIIif",
        "outputId": "86e3d477-5b84-4408-fd81-e4833ba7a07e"
      },
      "execution_count": 5,
      "outputs": [
        {
          "output_type": "execute_result",
          "data": {
            "text/plain": [
              "{'student1': 'goalie',\n",
              " 'student2': 'forward',\n",
              " 'student3': 'mid',\n",
              " 'student4': 'centreback',\n",
              " 'student5': 'centremid'}"
            ]
          },
          "metadata": {},
          "execution_count": 5
        }
      ]
    },
    {
      "cell_type": "code",
      "source": [
        "school_team['student1']"
      ],
      "metadata": {
        "colab": {
          "base_uri": "https://localhost:8080/",
          "height": 36
        },
        "id": "1RKPixZHKlXd",
        "outputId": "c984ad07-d539-4395-9a85-c109dc7d0aaa"
      },
      "execution_count": 6,
      "outputs": [
        {
          "output_type": "execute_result",
          "data": {
            "text/plain": [
              "'goalie'"
            ],
            "application/vnd.google.colaboratory.intrinsic+json": {
              "type": "string"
            }
          },
          "metadata": {},
          "execution_count": 6
        }
      ]
    },
    {
      "cell_type": "code",
      "source": [
        "len(school_team)"
      ],
      "metadata": {
        "colab": {
          "base_uri": "https://localhost:8080/"
        },
        "id": "m6JWRLu9LFjp",
        "outputId": "6d442262-c485-40cb-8b7f-5d916995ecef"
      },
      "execution_count": 7,
      "outputs": [
        {
          "output_type": "execute_result",
          "data": {
            "text/plain": [
              "5"
            ]
          },
          "metadata": {},
          "execution_count": 7
        }
      ]
    },
    {
      "cell_type": "code",
      "source": [
        "school_team.keys()"
      ],
      "metadata": {
        "colab": {
          "base_uri": "https://localhost:8080/"
        },
        "id": "1Y1ZGpZNL-ny",
        "outputId": "4217d38a-1632-45db-c282-d8d4fe1be351"
      },
      "execution_count": 8,
      "outputs": [
        {
          "output_type": "execute_result",
          "data": {
            "text/plain": [
              "dict_keys(['student1', 'student2', 'student3', 'student4', 'student5'])"
            ]
          },
          "metadata": {},
          "execution_count": 8
        }
      ]
    },
    {
      "cell_type": "code",
      "source": [
        "school_team.values()"
      ],
      "metadata": {
        "colab": {
          "base_uri": "https://localhost:8080/"
        },
        "id": "rU29zeIMMdQs",
        "outputId": "eef97267-9f06-4ae6-e90b-a53be9d1ff24"
      },
      "execution_count": 9,
      "outputs": [
        {
          "output_type": "execute_result",
          "data": {
            "text/plain": [
              "dict_values(['goalie', 'forward', 'mid', 'centreback', 'centremid'])"
            ]
          },
          "metadata": {},
          "execution_count": 9
        }
      ]
    },
    {
      "cell_type": "code",
      "source": [
        "school_team"
      ],
      "metadata": {
        "colab": {
          "base_uri": "https://localhost:8080/"
        },
        "id": "d84sT6bVMlVa",
        "outputId": "58210450-e857-4600-f307-ba2b894af4ea"
      },
      "execution_count": 10,
      "outputs": [
        {
          "output_type": "execute_result",
          "data": {
            "text/plain": [
              "{'student1': 'goalie',\n",
              " 'student2': 'forward',\n",
              " 'student3': 'mid',\n",
              " 'student4': 'centreback',\n",
              " 'student5': 'centremid'}"
            ]
          },
          "metadata": {},
          "execution_count": 10
        }
      ]
    },
    {
      "cell_type": "code",
      "source": [
        "school_team.items()"
      ],
      "metadata": {
        "id": "fCzpQuZ7VNx_",
        "colab": {
          "base_uri": "https://localhost:8080/"
        },
        "outputId": "7b0648a4-8edc-4eb2-b4ee-da65e545ba3e"
      },
      "execution_count": 11,
      "outputs": [
        {
          "output_type": "execute_result",
          "data": {
            "text/plain": [
              "dict_items([('student1', 'goalie'), ('student2', 'forward'), ('student3', 'mid'), ('student4', 'centreback'), ('student5', 'centremid')])"
            ]
          },
          "metadata": {},
          "execution_count": 11
        }
      ]
    },
    {
      "cell_type": "code",
      "source": [
        "school_team['student6']='striker'\n",
        "school_team"
      ],
      "metadata": {
        "colab": {
          "base_uri": "https://localhost:8080/"
        },
        "id": "wSoDbvlTZWP9",
        "outputId": "ff6d6052-0d6c-47aa-88c2-ce8a73b01d47"
      },
      "execution_count": 12,
      "outputs": [
        {
          "output_type": "execute_result",
          "data": {
            "text/plain": [
              "{'student1': 'goalie',\n",
              " 'student2': 'forward',\n",
              " 'student3': 'mid',\n",
              " 'student4': 'centreback',\n",
              " 'student5': 'centremid',\n",
              " 'student6': 'striker'}"
            ]
          },
          "metadata": {},
          "execution_count": 12
        }
      ]
    },
    {
      "cell_type": "code",
      "source": [
        "school_team['student6']='striker 1'\n",
        "school_team"
      ],
      "metadata": {
        "colab": {
          "base_uri": "https://localhost:8080/"
        },
        "id": "Z6m6EmeCZoXS",
        "outputId": "20d0e1ea-0b7d-449c-d180-3de43139684c"
      },
      "execution_count": 14,
      "outputs": [
        {
          "output_type": "execute_result",
          "data": {
            "text/plain": [
              "{'student1': 'goalie',\n",
              " 'student2': 'forward',\n",
              " 'student3': 'mid',\n",
              " 'student4': 'centreback',\n",
              " 'student5': 'centremid',\n",
              " 'student6': 'striker 1'}"
            ]
          },
          "metadata": {},
          "execution_count": 14
        }
      ]
    },
    {
      "cell_type": "code",
      "source": [
        "school_team.pop('student6')\n",
        "school_team"
      ],
      "metadata": {
        "colab": {
          "base_uri": "https://localhost:8080/"
        },
        "id": "d9JJ4np7Z4g2",
        "outputId": "796e73de-fc46-4435-8ad6-186dd2195e34"
      },
      "execution_count": 15,
      "outputs": [
        {
          "output_type": "execute_result",
          "data": {
            "text/plain": [
              "{'student1': 'goalie',\n",
              " 'student2': 'forward',\n",
              " 'student3': 'mid',\n",
              " 'student4': 'centreback',\n",
              " 'student5': 'centremid'}"
            ]
          },
          "metadata": {},
          "execution_count": 15
        }
      ]
    },
    {
      "cell_type": "code",
      "source": [
        "school_team.update({'student6':'striker','student7':'sub'})\n",
        "school_team"
      ],
      "metadata": {
        "colab": {
          "base_uri": "https://localhost:8080/"
        },
        "id": "MzGZwS1HaNs_",
        "outputId": "2c90f237-04e9-49f3-ba7f-1c6d0285b837"
      },
      "execution_count": 17,
      "outputs": [
        {
          "output_type": "execute_result",
          "data": {
            "text/plain": [
              "{'student1': 'goalie',\n",
              " 'student2': 'forward',\n",
              " 'student3': 'mid',\n",
              " 'student4': 'centreback',\n",
              " 'student5': 'centremid',\n",
              " 'student6': 'striker',\n",
              " 'student7': 'sub'}"
            ]
          },
          "metadata": {},
          "execution_count": 17
        }
      ]
    },
    {
      "cell_type": "markdown",
      "source": [
        "# set"
      ],
      "metadata": {
        "id": "sIQIbkr-ataj"
      }
    },
    {
      "cell_type": "code",
      "source": [
        "set1 = {10, 20, 30, 40, 50, 60, 70, 80, 90, 100,\n",
        "        110, 120, 130, 140, 150, 160, 170, 180, 190, 200}\n",
        "\n",
        "set1\n",
        "\n"
      ],
      "metadata": {
        "colab": {
          "base_uri": "https://localhost:8080/"
        },
        "id": "5XDlLdleaw9h",
        "outputId": "e55a927e-8d0b-40c0-e490-0321aa13fa95"
      },
      "execution_count": 23,
      "outputs": [
        {
          "output_type": "execute_result",
          "data": {
            "text/plain": [
              "{10,\n",
              " 20,\n",
              " 30,\n",
              " 40,\n",
              " 50,\n",
              " 60,\n",
              " 70,\n",
              " 80,\n",
              " 90,\n",
              " 100,\n",
              " 110,\n",
              " 120,\n",
              " 130,\n",
              " 140,\n",
              " 150,\n",
              " 160,\n",
              " 170,\n",
              " 180,\n",
              " 190,\n",
              " 200}"
            ]
          },
          "metadata": {},
          "execution_count": 23
        }
      ]
    },
    {
      "cell_type": "code",
      "source": [
        "set2 = set([5, 15, 25, 35, 45, 55, 65, 75, 85, 95,\n",
        "        105, 115, 125, 135, 145, 155, 165, 175, 185, 195])\n",
        "set2"
      ],
      "metadata": {
        "colab": {
          "base_uri": "https://localhost:8080/"
        },
        "id": "xHYAMNlTbp69",
        "outputId": "bf924c64-7ad2-4b76-81eb-4d72b0ac6ced"
      },
      "execution_count": 21,
      "outputs": [
        {
          "output_type": "execute_result",
          "data": {
            "text/plain": [
              "{5,\n",
              " 15,\n",
              " 25,\n",
              " 35,\n",
              " 45,\n",
              " 55,\n",
              " 65,\n",
              " 75,\n",
              " 85,\n",
              " 95,\n",
              " 105,\n",
              " 115,\n",
              " 125,\n",
              " 135,\n",
              " 145,\n",
              " 155,\n",
              " 165,\n",
              " 175,\n",
              " 185,\n",
              " 195}"
            ]
          },
          "metadata": {},
          "execution_count": 21
        }
      ]
    },
    {
      "cell_type": "code",
      "source": [
        "len(set1)"
      ],
      "metadata": {
        "colab": {
          "base_uri": "https://localhost:8080/"
        },
        "id": "SsCIwUSVcbe0",
        "outputId": "c1e8d912-a81e-4972-b148-3586b04db682"
      },
      "execution_count": 24,
      "outputs": [
        {
          "output_type": "execute_result",
          "data": {
            "text/plain": [
              "20"
            ]
          },
          "metadata": {},
          "execution_count": 24
        }
      ]
    },
    {
      "cell_type": "code",
      "source": [
        "len(set2)"
      ],
      "metadata": {
        "colab": {
          "base_uri": "https://localhost:8080/"
        },
        "id": "Ck1zn6Nwcha7",
        "outputId": "b05afddb-8a6a-4200-9b47-4dce4e00a936"
      },
      "execution_count": 25,
      "outputs": [
        {
          "output_type": "execute_result",
          "data": {
            "text/plain": [
              "20"
            ]
          },
          "metadata": {},
          "execution_count": 25
        }
      ]
    },
    {
      "cell_type": "code",
      "source": [
        "95 in set2"
      ],
      "metadata": {
        "colab": {
          "base_uri": "https://localhost:8080/"
        },
        "id": "JQe1XpaNcjjr",
        "outputId": "f3af04b3-2667-4b10-a788-d85d0fc96554"
      },
      "execution_count": 28,
      "outputs": [
        {
          "output_type": "execute_result",
          "data": {
            "text/plain": [
              "True"
            ]
          },
          "metadata": {},
          "execution_count": 28
        }
      ]
    },
    {
      "cell_type": "code",
      "source": [
        "set1 & set2"
      ],
      "metadata": {
        "colab": {
          "base_uri": "https://localhost:8080/"
        },
        "id": "jeDhfJ8yc3gP",
        "outputId": "625926bd-495c-42b8-aec4-2812a9d6a471"
      },
      "execution_count": 30,
      "outputs": [
        {
          "output_type": "execute_result",
          "data": {
            "text/plain": [
              "set()"
            ]
          },
          "metadata": {},
          "execution_count": 30
        }
      ]
    },
    {
      "cell_type": "code",
      "source": [
        "print(set1 | set2 )"
      ],
      "metadata": {
        "colab": {
          "base_uri": "https://localhost:8080/"
        },
        "id": "efVql9ejc_fa",
        "outputId": "dc55eea6-1a0b-47aa-c1d0-5799699c750f"
      },
      "execution_count": 32,
      "outputs": [
        {
          "output_type": "stream",
          "name": "stdout",
          "text": [
            "{130, 5, 135, 10, 140, 15, 145, 20, 150, 25, 155, 30, 160, 35, 165, 40, 170, 45, 175, 50, 180, 55, 185, 60, 190, 65, 195, 70, 200, 75, 80, 85, 90, 95, 100, 105, 110, 115, 120, 125}\n"
          ]
        }
      ]
    },
    {
      "cell_type": "code",
      "source": [
        "set1 - set2"
      ],
      "metadata": {
        "colab": {
          "base_uri": "https://localhost:8080/"
        },
        "id": "NXsXhbh7dLYd",
        "outputId": "3f4ffe3b-c318-4691-d09c-4dafdd403a63"
      },
      "execution_count": 34,
      "outputs": [
        {
          "output_type": "execute_result",
          "data": {
            "text/plain": [
              "{10,\n",
              " 20,\n",
              " 30,\n",
              " 40,\n",
              " 50,\n",
              " 60,\n",
              " 70,\n",
              " 80,\n",
              " 90,\n",
              " 100,\n",
              " 110,\n",
              " 120,\n",
              " 130,\n",
              " 140,\n",
              " 150,\n",
              " 160,\n",
              " 170,\n",
              " 180,\n",
              " 190,\n",
              " 200}"
            ]
          },
          "metadata": {},
          "execution_count": 34
        }
      ]
    },
    {
      "cell_type": "code",
      "source": [
        "set1.add(201)\n",
        "set2.add(201)\n",
        "print(set1 & set2)"
      ],
      "metadata": {
        "colab": {
          "base_uri": "https://localhost:8080/"
        },
        "id": "674atv5WdWL0",
        "outputId": "73f5bb03-77ac-4f54-f647-97285f455a10"
      },
      "execution_count": 41,
      "outputs": [
        {
          "output_type": "stream",
          "name": "stdout",
          "text": [
            "{201}\n"
          ]
        }
      ]
    },
    {
      "cell_type": "code",
      "source": [
        "set1.update([203,205,207])\n",
        "set1"
      ],
      "metadata": {
        "colab": {
          "base_uri": "https://localhost:8080/"
        },
        "id": "3lhPkaJadu-T",
        "outputId": "eccbbd3c-906b-4151-e948-f48740d9ab90"
      },
      "execution_count": 43,
      "outputs": [
        {
          "output_type": "execute_result",
          "data": {
            "text/plain": [
              "{10,\n",
              " 20,\n",
              " 30,\n",
              " 40,\n",
              " 50,\n",
              " 60,\n",
              " 70,\n",
              " 80,\n",
              " 90,\n",
              " 100,\n",
              " 110,\n",
              " 120,\n",
              " 130,\n",
              " 140,\n",
              " 150,\n",
              " 160,\n",
              " 170,\n",
              " 180,\n",
              " 190,\n",
              " 200,\n",
              " 201,\n",
              " 203,\n",
              " 205,\n",
              " 207}"
            ]
          },
          "metadata": {},
          "execution_count": 43
        }
      ]
    },
    {
      "cell_type": "code",
      "source": [
        "set3 = (set1 | set2)\n",
        "set3"
      ],
      "metadata": {
        "colab": {
          "base_uri": "https://localhost:8080/"
        },
        "id": "suQWn_00eEId",
        "outputId": "f4cfc70b-94c6-4103-b45a-2fefc8fcbb99"
      },
      "execution_count": 47,
      "outputs": [
        {
          "output_type": "execute_result",
          "data": {
            "text/plain": [
              "{5,\n",
              " 10,\n",
              " 15,\n",
              " 20,\n",
              " 25,\n",
              " 30,\n",
              " 35,\n",
              " 40,\n",
              " 45,\n",
              " 50,\n",
              " 55,\n",
              " 60,\n",
              " 65,\n",
              " 70,\n",
              " 75,\n",
              " 80,\n",
              " 85,\n",
              " 90,\n",
              " 95,\n",
              " 100,\n",
              " 105,\n",
              " 110,\n",
              " 115,\n",
              " 120,\n",
              " 125,\n",
              " 130,\n",
              " 135,\n",
              " 140,\n",
              " 145,\n",
              " 150,\n",
              " 155,\n",
              " 160,\n",
              " 165,\n",
              " 170,\n",
              " 175,\n",
              " 180,\n",
              " 185,\n",
              " 190,\n",
              " 195,\n",
              " 200,\n",
              " 201,\n",
              " 203,\n",
              " 205,\n",
              " 207}"
            ]
          },
          "metadata": {},
          "execution_count": 47
        }
      ]
    },
    {
      "cell_type": "code",
      "source": [
        "sorted(set1 ,reverse=False)"
      ],
      "metadata": {
        "colab": {
          "base_uri": "https://localhost:8080/"
        },
        "id": "7kTiHECQeWe_",
        "outputId": "8ae91c87-9d95-4dbb-999d-8af705beef33"
      },
      "execution_count": 52,
      "outputs": [
        {
          "output_type": "execute_result",
          "data": {
            "text/plain": [
              "[10,\n",
              " 20,\n",
              " 30,\n",
              " 40,\n",
              " 50,\n",
              " 60,\n",
              " 70,\n",
              " 80,\n",
              " 90,\n",
              " 100,\n",
              " 110,\n",
              " 120,\n",
              " 130,\n",
              " 140,\n",
              " 150,\n",
              " 160,\n",
              " 170,\n",
              " 180,\n",
              " 190,\n",
              " 200,\n",
              " 201,\n",
              " 203,\n",
              " 205,\n",
              " 207]"
            ]
          },
          "metadata": {},
          "execution_count": 52
        }
      ]
    },
    {
      "cell_type": "markdown",
      "source": [
        "# functions"
      ],
      "metadata": {
        "id": "sGwCMl9Ge3WH"
      }
    },
    {
      "cell_type": "code",
      "source": [
        "def ask_anything():\n",
        "  print('search google')"
      ],
      "metadata": {
        "id": "Le_2gzDcfBkI"
      },
      "execution_count": 55,
      "outputs": []
    },
    {
      "cell_type": "code",
      "source": [
        "ask_anything()"
      ],
      "metadata": {
        "colab": {
          "base_uri": "https://localhost:8080/"
        },
        "id": "4zFkdO5kgVO7",
        "outputId": "e71da172-599a-4b40-bd3c-069227e35eb8"
      },
      "execution_count": 57,
      "outputs": [
        {
          "output_type": "stream",
          "name": "stdout",
          "text": [
            "search google\n"
          ]
        }
      ]
    },
    {
      "cell_type": "code",
      "source": [
        "\n",
        "def square(x):\n",
        "  print(x**2)"
      ],
      "metadata": {
        "id": "WP3Z1BvJg0Xy"
      },
      "execution_count": 68,
      "outputs": []
    },
    {
      "cell_type": "code",
      "source": [
        "square(1833)"
      ],
      "metadata": {
        "colab": {
          "base_uri": "https://localhost:8080/"
        },
        "id": "JQ34lgSAh0s-",
        "outputId": "77bbf755-2456-450f-abda-a212c1e3ac7e"
      },
      "execution_count": 66,
      "outputs": [
        {
          "output_type": "stream",
          "name": "stdout",
          "text": [
            "3359889\n"
          ]
        }
      ]
    },
    {
      "cell_type": "code",
      "source": [
        "def calc( a , b , op):\n",
        "  if op == 'add':\n",
        "   return a + b\n",
        "  elif op == 'sub':\n",
        "    return a - b\n",
        "  elif op == 'mul':\n",
        "    return a * b\n",
        "  elif op == 'div':\n",
        "    return a / b\n",
        "  else:\n",
        "   print(\"action cannot be executed\")"
      ],
      "metadata": {
        "id": "egXmGDfZiLBQ"
      },
      "execution_count": 72,
      "outputs": []
    },
    {
      "cell_type": "code",
      "source": [
        "calc(456,435,'mul')"
      ],
      "metadata": {
        "colab": {
          "base_uri": "https://localhost:8080/"
        },
        "id": "Qt1n5MCmkDPa",
        "outputId": "38658212-224c-4c23-e689-d460e5c42155"
      },
      "execution_count": 73,
      "outputs": [
        {
          "output_type": "execute_result",
          "data": {
            "text/plain": [
              "198360"
            ]
          },
          "metadata": {},
          "execution_count": 73
        }
      ]
    },
    {
      "cell_type": "code",
      "source": [
        "calc(123,234,'add')\n"
      ],
      "metadata": {
        "colab": {
          "base_uri": "https://localhost:8080/"
        },
        "id": "7dVwGu-hkKDX",
        "outputId": "ac635032-fc2a-4702-becc-5e61013ec3f4"
      },
      "execution_count": 78,
      "outputs": [
        {
          "output_type": "execute_result",
          "data": {
            "text/plain": [
              "357"
            ]
          },
          "metadata": {},
          "execution_count": 78
        }
      ]
    },
    {
      "cell_type": "code",
      "source": [
        "calc(800,100,'div')"
      ],
      "metadata": {
        "colab": {
          "base_uri": "https://localhost:8080/"
        },
        "id": "w9SE-0HJkoJs",
        "outputId": "dfb221ab-1975-41c9-97c1-c39e4a4bf4b7"
      },
      "execution_count": 79,
      "outputs": [
        {
          "output_type": "execute_result",
          "data": {
            "text/plain": [
              "8.0"
            ]
          },
          "metadata": {},
          "execution_count": 79
        }
      ]
    },
    {
      "cell_type": "code",
      "source": [
        "\n",
        "calc(7867885,24343,'sub')"
      ],
      "metadata": {
        "colab": {
          "base_uri": "https://localhost:8080/"
        },
        "id": "hGY_ebPVkq4i",
        "outputId": "79c5adfd-09c4-43ea-fe93-8f99b5ddd9d4"
      },
      "execution_count": 80,
      "outputs": [
        {
          "output_type": "execute_result",
          "data": {
            "text/plain": [
              "7843542"
            ]
          },
          "metadata": {},
          "execution_count": 80
        }
      ]
    },
    {
      "cell_type": "code",
      "source": [
        "calc(2283,88383,'log')"
      ],
      "metadata": {
        "colab": {
          "base_uri": "https://localhost:8080/"
        },
        "id": "plYQmCOWkt_n",
        "outputId": "13013e62-3392-46da-ec82-f418761d330f"
      },
      "execution_count": 81,
      "outputs": [
        {
          "output_type": "stream",
          "name": "stdout",
          "text": [
            "action cannot be executed\n"
          ]
        }
      ]
    },
    {
      "cell_type": "code",
      "source": [
        "def min_max(nums):\n",
        " return min(nums),max(nums)"
      ],
      "metadata": {
        "id": "RnGrpT4Lk8qN"
      },
      "execution_count": 86,
      "outputs": []
    },
    {
      "cell_type": "code",
      "source": [
        " nums = (234,223,445,112)\n",
        " min_max(nums)"
      ],
      "metadata": {
        "colab": {
          "base_uri": "https://localhost:8080/"
        },
        "id": "tqn3xzoQlms2",
        "outputId": "9ee1cbdc-93c2-4548-c898-78e08db01c1f"
      },
      "execution_count": 88,
      "outputs": [
        {
          "output_type": "execute_result",
          "data": {
            "text/plain": [
              "(112, 445)"
            ]
          },
          "metadata": {},
          "execution_count": 88
        }
      ]
    },
    {
      "cell_type": "code",
      "source": [],
      "metadata": {
        "id": "RSgG7r7Cl6HM"
      },
      "execution_count": null,
      "outputs": []
    },
    {
      "cell_type": "markdown",
      "source": [
        "# for loop and while loop"
      ],
      "metadata": {
        "id": "DwZIqR7jl-Nd"
      }
    },
    {
      "cell_type": "code",
      "source": [
        "range(4)"
      ],
      "metadata": {
        "colab": {
          "base_uri": "https://localhost:8080/"
        },
        "id": "ZAbcvDhdmHBU",
        "outputId": "c1c17d4e-2947-45ee-91ea-88798bcfaf6e"
      },
      "execution_count": 102,
      "outputs": [
        {
          "output_type": "execute_result",
          "data": {
            "text/plain": [
              "range(0, 4)"
            ]
          },
          "metadata": {},
          "execution_count": 102
        }
      ]
    },
    {
      "cell_type": "code",
      "source": [
        "for i in range(8):\n",
        " print(i)"
      ],
      "metadata": {
        "colab": {
          "base_uri": "https://localhost:8080/"
        },
        "id": "7R1zvjiImw-K",
        "outputId": "c71ae40a-2bba-418f-bd60-698971cb13b6"
      },
      "execution_count": 105,
      "outputs": [
        {
          "output_type": "stream",
          "name": "stdout",
          "text": [
            "0\n",
            "1\n",
            "2\n",
            "3\n",
            "4\n",
            "5\n",
            "6\n",
            "7\n"
          ]
        }
      ]
    },
    {
      "cell_type": "code",
      "source": [
        "for i in range(456,460):\n",
        " print(i)"
      ],
      "metadata": {
        "colab": {
          "base_uri": "https://localhost:8080/"
        },
        "id": "APEldwtJnW7o",
        "outputId": "32bf0a57-eab4-4ffe-8d11-9785206a45a6"
      },
      "execution_count": 109,
      "outputs": [
        {
          "output_type": "stream",
          "name": "stdout",
          "text": [
            "456\n",
            "457\n",
            "458\n",
            "459\n"
          ]
        }
      ]
    },
    {
      "cell_type": "code",
      "source": [
        "n = int(input(\"enter a number:\"))\n",
        "for i in range(1,11):\n",
        "    c = n*i\n",
        "    print(n,\"x\",i,\"=\",c)"
      ],
      "metadata": {
        "colab": {
          "base_uri": "https://localhost:8080/"
        },
        "id": "ZGrB2Nqlnyqj",
        "outputId": "3da367ce-8698-4fd3-a8d3-bb69a20f2aa9"
      },
      "execution_count": 133,
      "outputs": [
        {
          "output_type": "stream",
          "name": "stdout",
          "text": [
            "enter a number:9\n",
            "9 x 1 = 9\n",
            "9 x 2 = 18\n",
            "9 x 3 = 27\n",
            "9 x 4 = 36\n",
            "9 x 5 = 45\n",
            "9 x 6 = 54\n",
            "9 x 7 = 63\n",
            "9 x 8 = 72\n",
            "9 x 9 = 81\n",
            "9 x 10 = 90\n"
          ]
        }
      ]
    },
    {
      "cell_type": "code",
      "source": [
        "n = int(input(\"enter a number:\"))\n",
        "for i in range(2,n+1,2):\n",
        "   print(i,end=\" \")"
      ],
      "metadata": {
        "colab": {
          "base_uri": "https://localhost:8080/"
        },
        "id": "wOg_RP2XrMad",
        "outputId": "80203235-58fe-4f34-8181-1bd326c5a499"
      },
      "execution_count": 143,
      "outputs": [
        {
          "output_type": "stream",
          "name": "stdout",
          "text": [
            "enter a number:16\n",
            "2 4 6 8 10 12 14 16 "
          ]
        }
      ]
    },
    {
      "cell_type": "code",
      "source": [
        "n = int(input(\"enter a number:\"))\n",
        "for i in range(1,n+2):\n",
        "   print(i,end=\" \")"
      ],
      "metadata": {
        "colab": {
          "base_uri": "https://localhost:8080/"
        },
        "id": "UgVHP9VYsmM-",
        "outputId": "7e8aeafd-5f20-42ed-bc72-d9342d57dfcc"
      },
      "execution_count": 146,
      "outputs": [
        {
          "output_type": "stream",
          "name": "stdout",
          "text": [
            "enter a number:19\n",
            "1 2 3 4 5 6 7 8 9 10 11 12 13 14 15 16 17 18 19 20 "
          ]
        }
      ]
    },
    {
      "cell_type": "code",
      "source": [
        "rows = int(input(\"enter no.s of rows:\"))\n",
        "for i in range(0,rows+1):\n",
        "  for j in range(i):\n",
        "    print(\"*\",end=\" \")\n",
        "  print()\n",
        ""
      ],
      "metadata": {
        "colab": {
          "base_uri": "https://localhost:8080/"
        },
        "id": "TJwR27r5tCCS",
        "outputId": "573d3fce-99a8-4c80-c1c2-dc7191b2ea2c"
      },
      "execution_count": 154,
      "outputs": [
        {
          "output_type": "stream",
          "name": "stdout",
          "text": [
            "enter no.s of rows:10\n",
            "\n",
            "* \n",
            "* * \n",
            "* * * \n",
            "* * * * \n",
            "* * * * * \n",
            "* * * * * * \n",
            "* * * * * * * \n",
            "* * * * * * * * \n",
            "* * * * * * * * * \n",
            "* * * * * * * * * * \n"
          ]
        }
      ]
    },
    {
      "cell_type": "code",
      "source": [
        "names = ['rachel','ross','monica','chandler','joey','phoebe']\n",
        "for name in names:\n",
        "    if name == 'joey':\n",
        "       continue\n",
        "       print('found joey!!!!')\n",
        "\n",
        "else:\n",
        "    print('joey cant be found')\n",
        ""
      ],
      "metadata": {
        "colab": {
          "base_uri": "https://localhost:8080/"
        },
        "id": "8kg_r--ZufVO",
        "outputId": "567f2cc7-dabc-469d-9d5a-b10553d2e99e"
      },
      "execution_count": 164,
      "outputs": [
        {
          "output_type": "stream",
          "name": "stdout",
          "text": [
            "joey cant be found\n"
          ]
        }
      ]
    },
    {
      "cell_type": "code",
      "source": [
        "count = 0\n",
        "while count<10:\n",
        " print('its kerala')\n",
        " count += 1"
      ],
      "metadata": {
        "colab": {
          "base_uri": "https://localhost:8080/"
        },
        "id": "-IXmlsHfyRrs",
        "outputId": "ec71d523-4e10-4ac0-86b1-258ae35e1fa0"
      },
      "execution_count": 169,
      "outputs": [
        {
          "output_type": "stream",
          "name": "stdout",
          "text": [
            "its kerala\n",
            "its kerala\n",
            "its kerala\n",
            "its kerala\n",
            "its kerala\n",
            "its kerala\n",
            "its kerala\n",
            "its kerala\n",
            "its kerala\n",
            "its kerala\n"
          ]
        }
      ]
    }
  ]
}