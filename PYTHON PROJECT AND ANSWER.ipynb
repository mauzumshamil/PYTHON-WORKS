{
  "nbformat": 4,
  "nbformat_minor": 0,
  "metadata": {
    "colab": {
      "provenance": []
    },
    "kernelspec": {
      "name": "python3",
      "display_name": "Python 3"
    },
    "language_info": {
      "name": "python"
    }
  },
  "cells": [
    {
      "cell_type": "markdown",
      "source": [
        "1.Write a Python program to display the first and last colors from the following list.\n",
        "\n",
        "list_1 = [\"Red\",\"Green\",\"White\" ,\"Black\"]"
      ],
      "metadata": {
        "id": "eZKU4-EXgWA-"
      }
    },
    {
      "cell_type": "code",
      "source": [
        "list_1 = [\"Red\",\"Green\",\"White\" ,\"Black\"]\n",
        "\n",
        "print(\"first color:\",list_1[0])\n",
        "print(\"last color:\",list_1[-1])"
      ],
      "metadata": {
        "colab": {
          "base_uri": "https://localhost:8080/"
        },
        "id": "Ms6O4uM3giaD",
        "outputId": "a8b9f7b2-b65f-460b-81ab-587f80a01cb7"
      },
      "execution_count": 8,
      "outputs": [
        {
          "output_type": "stream",
          "name": "stdout",
          "text": [
            "first color: Red\n",
            "last color: Black\n"
          ]
        }
      ]
    },
    {
      "cell_type": "markdown",
      "source": [
        "2.Write a Python program to sum the first n positive integers."
      ],
      "metadata": {
        "id": "ddJpvXNMh3oE"
      }
    },
    {
      "cell_type": "code",
      "source": [
        "def sum(n):\n",
        "  return (n * (n+1)//2)\n",
        "\n",
        "n = int(input(\"enter a positive number:\"))\n",
        "result = sum(n)\n",
        "print(\"the sum of the\",n,\"integer is:\",result)\n",
        "\n",
        "\n"
      ],
      "metadata": {
        "colab": {
          "base_uri": "https://localhost:8080/"
        },
        "id": "DGuqT9kLh-NT",
        "outputId": "50bf329f-ce78-4d07-a39d-924173b0d382"
      },
      "execution_count": 72,
      "outputs": [
        {
          "output_type": "stream",
          "name": "stdout",
          "text": [
            "enter a positive number:7\n",
            "the sum of the 7 integer is: 28\n"
          ]
        }
      ]
    },
    {
      "cell_type": "markdown",
      "source": [
        "3.Write a Python program to test whether all numbers in a list are greater than a certain number."
      ],
      "metadata": {
        "id": "I-DgVUNejOoY"
      }
    },
    {
      "cell_type": "code",
      "source": [
        "numbers = [10,20,30,40]\n",
        "x = 5\n",
        "greatest = all(num > x for num in numbers)\n",
        "if greatest:\n",
        "    print(\"all number is greater than\",x)\n",
        "else:\n",
        "    print(\"not ll number is greater than\",x)\n"
      ],
      "metadata": {
        "colab": {
          "base_uri": "https://localhost:8080/"
        },
        "id": "0W_Q_fdgjP2t",
        "outputId": "6378b886-b197-46e1-f190-9879077ce27c"
      },
      "execution_count": 10,
      "outputs": [
        {
          "output_type": "stream",
          "name": "stdout",
          "text": [
            "all number is greater than 5\n"
          ]
        }
      ]
    },
    {
      "cell_type": "markdown",
      "source": [
        "4.Write a Python program to count the number of occurrences of a specific character in a string."
      ],
      "metadata": {
        "id": "vidzeOaxku6P"
      }
    },
    {
      "cell_type": "code",
      "source": [
        "def count_occu(string,char):\n",
        "  count=0\n",
        "  for c in string:\n",
        "    if c == char:\n",
        "      count += 1\n",
        "  return count\n",
        "\n",
        "string = \"hey this is a exams\"\n",
        "char = \"s\"\n",
        "count_occu(string,char)\n",
        "print(\"number of occurances of 'char' in 'string':'occurance'\")"
      ],
      "metadata": {
        "colab": {
          "base_uri": "https://localhost:8080/"
        },
        "id": "volnN7Wjk3Ec",
        "outputId": "1e8d9e9c-1765-47a2-e228-dd737cbb91f3"
      },
      "execution_count": 23,
      "outputs": [
        {
          "output_type": "stream",
          "name": "stdout",
          "text": [
            "number of occurances of '{char}' in 'string':'occurance'\n"
          ]
        }
      ]
    },
    {
      "cell_type": "markdown",
      "source": [
        "5.Given variables x=100 and y=200, write a Python program to print \"100+200=300\"."
      ],
      "metadata": {
        "id": "8mhkvzrPl94U"
      }
    },
    {
      "cell_type": "code",
      "source": [
        "x=100\n",
        "y=200\n",
        "c=x+y\n",
        "print(x,\"+\",y,\"=\",c)"
      ],
      "metadata": {
        "colab": {
          "base_uri": "https://localhost:8080/"
        },
        "id": "-Yw9CP4NmCaP",
        "outputId": "214c4f10-9801-42f4-8b92-dcd7370d55ee"
      },
      "execution_count": 14,
      "outputs": [
        {
          "output_type": "stream",
          "name": "stdout",
          "text": [
            "100 + 200 = 300\n"
          ]
        }
      ]
    },
    {
      "cell_type": "markdown",
      "source": [
        "6.Write a Python program to swap two variables."
      ],
      "metadata": {
        "id": "Jv3ws7GUpR-T"
      }
    },
    {
      "cell_type": "code",
      "source": [
        "a = 5\n",
        "b = 10\n",
        "\n",
        "a,b=b,a\n",
        "\n",
        "print(\"\\n swapping:\")\n",
        "print(\"a =\",a)\n",
        "print(\"b = \",b)"
      ],
      "metadata": {
        "colab": {
          "base_uri": "https://localhost:8080/"
        },
        "id": "DrPC8cn5powZ",
        "outputId": "1481c830-582e-4179-f5ad-e0ce9fded853"
      },
      "execution_count": 25,
      "outputs": [
        {
          "output_type": "stream",
          "name": "stdout",
          "text": [
            "\n",
            " swapping:\n",
            "a = 10\n",
            "b =  5\n"
          ]
        }
      ]
    },
    {
      "cell_type": "markdown",
      "source": [
        "7.Write a Python program to remove the first item from a specified list."
      ],
      "metadata": {
        "id": "jC5PkoezqLYU"
      }
    },
    {
      "cell_type": "code",
      "source": [
        "list11 = [2,3,4,5,6,7,8]\n",
        "print(list11)\n",
        "list11.pop(0)\n",
        "list11"
      ],
      "metadata": {
        "colab": {
          "base_uri": "https://localhost:8080/"
        },
        "id": "knxm-Os7qaHe",
        "outputId": "05ae3379-0dc7-466b-c325-0234a6165df4"
      },
      "execution_count": 35,
      "outputs": [
        {
          "output_type": "stream",
          "name": "stdout",
          "text": [
            "[2, 3, 4, 5, 6, 7, 8]\n"
          ]
        },
        {
          "output_type": "execute_result",
          "data": {
            "text/plain": [
              "[3, 4, 5, 6, 7, 8]"
            ]
          },
          "metadata": {},
          "execution_count": 35
        }
      ]
    },
    {
      "cell_type": "markdown",
      "source": [
        "8.Write a Python program to check whether a variable is an integer or string."
      ],
      "metadata": {
        "id": "BgnlTUcVrcr0"
      }
    },
    {
      "cell_type": "code",
      "source": [
        "def check_vartype(variable):\n",
        "  if isinstance(variable, int):\n",
        "    print(\"the variable is interger.\")\n",
        "  elif isinstance(variable,str):\n",
        "    print(\"the variable is string.\")\n",
        "  else:\n",
        "    print(\"the variable is neither integer and string.\")\n",
        "\n",
        "check_vartype(2)\n",
        "check_vartype(\"hello\")\n",
        "\n"
      ],
      "metadata": {
        "colab": {
          "base_uri": "https://localhost:8080/"
        },
        "id": "Cnb0Qn3XrRD9",
        "outputId": "90cb8a43-935e-4516-9648-e44a0a6f72e4"
      },
      "execution_count": 38,
      "outputs": [
        {
          "output_type": "stream",
          "name": "stdout",
          "text": [
            "the variable is interger.\n",
            "the variable is string.\n"
          ]
        }
      ]
    },
    {
      "cell_type": "markdown",
      "source": [
        "9.Write a Python program to calculate the length of a string."
      ],
      "metadata": {
        "id": "fv0iUE4ltdXg"
      }
    },
    {
      "cell_type": "code",
      "source": [
        "def calculate_string_length(input_string):\n",
        "    return len(input_string)\n",
        "\n",
        "input_string = input(\"Enter a string: \")\n",
        "length = calculate_string_length(input_string)\n",
        "print(\"Length of the string is:\", length)\n"
      ],
      "metadata": {
        "colab": {
          "base_uri": "https://localhost:8080/"
        },
        "id": "oWMYskKBtjx0",
        "outputId": "bd25090c-e575-4dd9-fecf-96246776469c"
      },
      "execution_count": 41,
      "outputs": [
        {
          "output_type": "stream",
          "name": "stdout",
          "text": [
            "Enter a string: hellooshshssh\n",
            "Length of the string is: 13\n"
          ]
        }
      ]
    },
    {
      "cell_type": "raw",
      "metadata": {
        "id": "4e5f751d"
      },
      "source": [
        "10.create the following pattern\n",
        "                     *\n",
        "                   *   *\n",
        "                 *   *   *\n",
        "               *   *    *   *\n",
        "             *   *    *   *    *"
      ]
    },
    {
      "cell_type": "code",
      "source": [
        "rows = int(input(\"enter number of rows\"))\n",
        "for i in range(0, rows + 1):\n",
        "    print(\" \" * (rows - i), end=\"\")\n",
        "    for j in range(1,i + 1,1):\n",
        "      print(\" *\",end=\" \")\n",
        "    print()"
      ],
      "metadata": {
        "colab": {
          "base_uri": "https://localhost:8080/"
        },
        "id": "8Kf05W2swDuA",
        "outputId": "e1886ed9-5e83-432b-e8b5-e3f9b942c014"
      },
      "execution_count": 68,
      "outputs": [
        {
          "output_type": "stream",
          "name": "stdout",
          "text": [
            "enter number of rows6\n",
            "      \n",
            "      * \n",
            "     *  * \n",
            "    *  *  * \n",
            "   *  *  *  * \n",
            "  *  *  *  *  * \n",
            " *  *  *  *  *  * \n"
          ]
        }
      ]
    }
  ]
}